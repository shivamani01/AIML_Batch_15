{
  "cells": [
    {
      "cell_type": "markdown",
      "metadata": {
        "id": "view-in-github",
        "colab_type": "text"
      },
      "source": [
        "<a href=\"https://colab.research.google.com/github/shivamani01/AIML_Batch_15/blob/main/assignment_1_AIML.ipynb\" target=\"_parent\"><img src=\"https://colab.research.google.com/assets/colab-badge.svg\" alt=\"Open In Colab\"/></a>"
      ]
    },
    {
      "cell_type": "markdown",
      "id": "b50d918d",
      "metadata": {
        "id": "b50d918d"
      },
      "source": [
        "## Lab01- Implement basic data structures of Numpy, Pandas, Matplotlib and Access Data from sources\n",
        "### G.shivamani"
      ]
    },
    {
      "cell_type": "markdown",
      "id": "0128a62e",
      "metadata": {
        "id": "0128a62e"
      },
      "source": [
        "### Part 01: Lab Task is implement the following data structures using Numpy and Pandas.**\n",
        "1. Lists\n",
        "2. Arrays\n",
        "3. Identify their type using type()\n",
        "4. Perform mathematical operations on these datasets created - multiplication, division, poweroff\n",
        "5. Combine text with Numpy fuction to generate a textual output - ”Addition of Two: array1 +array 2\n",
        "6. Implement np.sin(), log(), log2(), np.exp())"
      ]
    },
    {
      "cell_type": "code",
      "execution_count": 1,
      "id": "53ac920a",
      "metadata": {
        "colab": {
          "base_uri": "https://localhost:8080/"
        },
        "id": "53ac920a",
        "outputId": "60d9871f-b3b9-4040-cbe7-51ecb66f869c"
      },
      "outputs": [
        {
          "output_type": "execute_result",
          "data": {
            "text/plain": [
              "array([1, 2, 3])"
            ]
          },
          "metadata": {},
          "execution_count": 1
        }
      ],
      "source": [
        "import numpy as np\n",
        "lst1=[1,2,3]\n",
        "array1 = np.array(lst1)\n",
        "array1"
      ]
    },
    {
      "cell_type": "code",
      "execution_count": 2,
      "id": "e40e19b2",
      "metadata": {
        "colab": {
          "base_uri": "https://localhost:8080/"
        },
        "id": "e40e19b2",
        "outputId": "16ee188e-45b4-4b91-c255-6da1d75456a3"
      },
      "outputs": [
        {
          "output_type": "execute_result",
          "data": {
            "text/plain": [
              "list"
            ]
          },
          "metadata": {},
          "execution_count": 2
        }
      ],
      "source": [
        "type(lst1)"
      ]
    },
    {
      "cell_type": "code",
      "execution_count": 3,
      "id": "b44611f1",
      "metadata": {
        "colab": {
          "base_uri": "https://localhost:8080/"
        },
        "id": "b44611f1",
        "outputId": "3a2e41f7-322e-4686-c202-719103ce7b23"
      },
      "outputs": [
        {
          "output_type": "execute_result",
          "data": {
            "text/plain": [
              "numpy.ndarray"
            ]
          },
          "metadata": {},
          "execution_count": 3
        }
      ],
      "source": [
        "type(array1)"
      ]
    },
    {
      "cell_type": "markdown",
      "id": "3b08fedd",
      "metadata": {
        "id": "3b08fedd"
      },
      "source": [
        "***Perform Mathematical Operations on these datasets - Multiplication, Division, Poweroff***"
      ]
    },
    {
      "cell_type": "code",
      "execution_count": 9,
      "id": "cbbb5ca5",
      "metadata": {
        "colab": {
          "base_uri": "https://localhost:8080/"
        },
        "id": "cbbb5ca5",
        "outputId": "a45c6349-ecd1-4915-ff52-c98c98ee78cb"
      },
      "outputs": [
        {
          "output_type": "stream",
          "name": "stdout",
          "text": [
            "array2 multiplied by array1:  [3 4 3]\n",
            "array2 divided by array1:  [3.         1.         0.33333333]\n",
            "array2 raised to the power of array1:  [3 4 1]\n"
          ]
        }
      ],
      "source": [
        "print(\"array2 multiplied by array1: \",array1*array2)\n",
        "print(\"array2 divided by array1: \",array2/array1)\n",
        "print(\"array2 raised to the power of array1: \",array2**array1)"
      ]
    },
    {
      "cell_type": "code",
      "execution_count": 5,
      "id": "208e5e57",
      "metadata": {
        "colab": {
          "base_uri": "https://localhost:8080/"
        },
        "id": "208e5e57",
        "outputId": "ed1fe028-0250-44ca-8ad4-3a347f786c5b"
      },
      "outputs": [
        {
          "output_type": "stream",
          "name": "stdout",
          "text": [
            "Sine:  [0.84147098 0.90929743 0.14112001]\n",
            "Natural logarithm:  [0.         0.69314718 1.09861229]\n",
            "Base-10 logarithm:  [0.         0.30103    0.47712125]\n",
            "Base-2 logarithm:  [0.        1.        1.5849625]\n",
            "Exponential:  [ 2.71828183  7.3890561  20.08553692]\n"
          ]
        }
      ],
      "source": [
        "# sine function\n",
        "print(\"Sine: \",np.sin(array1))\n",
        "# logarithm\n",
        "print(\"Natural logarithm: \",np.log(array1))\n",
        "print(\"Base-10 logarithm: \",np.log10(array1))\n",
        "print(\"Base-2 logarithm: \",np.log2(array1))\n",
        "# Exponential\n",
        "print(\"Exponential: \",np.exp(array1))"
      ]
    },
    {
      "cell_type": "code",
      "execution_count": 6,
      "id": "6ad654be",
      "metadata": {
        "colab": {
          "base_uri": "https://localhost:8080/"
        },
        "id": "6ad654be",
        "outputId": "93d64c2c-896e-4f47-e0fd-cfaa442115d3"
      },
      "outputs": [
        {
          "output_type": "execute_result",
          "data": {
            "text/plain": [
              "array([3, 2, 1])"
            ]
          },
          "metadata": {},
          "execution_count": 6
        }
      ],
      "source": [
        "list2=[3,2,1]\n",
        "array2=np.array(list2)\n",
        "array2"
      ]
    },
    {
      "cell_type": "code",
      "execution_count": 7,
      "id": "7ffe0ebb",
      "metadata": {
        "colab": {
          "base_uri": "https://localhost:8080/"
        },
        "id": "7ffe0ebb",
        "outputId": "b5f00568-8d34-4d11-d08c-1da234d06b23"
      },
      "outputs": [
        {
          "output_type": "stream",
          "name": "stdout",
          "text": [
            "Adding two numpy arrays {array1} and {array2} together: [4 4 4]\n"
          ]
        }
      ],
      "source": [
        "print(\"Adding two numpy arrays {array1} and {array2} together:\", array1+array2)"
      ]
    },
    {
      "cell_type": "code",
      "execution_count": 8,
      "id": "e2d45eed",
      "metadata": {
        "colab": {
          "base_uri": "https://localhost:8080/"
        },
        "id": "e2d45eed",
        "outputId": "348b72d1-a285-4fc1-91b6-2a0f11c3ead8"
      },
      "outputs": [
        {
          "output_type": "stream",
          "name": "stdout",
          "text": [
            "Adding two numpy arrays [1 2 3] and [3 2 1] together: [4 4 4]\n"
          ]
        }
      ],
      "source": [
        "print(f\"Adding two numpy arrays {array1} and {array2} together: {array1+array2}\")"
      ]
    },
    {
      "cell_type": "markdown",
      "id": "7edeb66c",
      "metadata": {
        "id": "7edeb66c"
      },
      "source": [
        "### Part-02: Lab Task is to visualize the datasets or data using Matplotlib builtin function Graphs"
      ]
    },
    {
      "cell_type": "markdown",
      "id": "cdd82673",
      "metadata": {
        "id": "cdd82673"
      },
      "source": [
        "### Generate Scatterplot\n",
        "**Let's suppose we collected age (in years), height (in cm), and weight (in kilograms) information from few patients visitng a clinic.**"
      ]
    },
    {
      "cell_type": "code",
      "execution_count": 10,
      "id": "70b89ee2",
      "metadata": {
        "id": "70b89ee2"
      },
      "outputs": [],
      "source": [
        "people = ['Ann','Brandon','Chen','David','Emily','Farook',\n",
        "          'Gagan','Hamish','Imran','Julio','Katherine','Lily']\n",
        "age = [21,12,32,45,37,18,28,52,5,40,48,15]\n",
        "weight = [55,35,77,68,70,60,72,69,18,65,82,48]\n",
        "height = [160,135,170,165,173,168,175,159,105,171,155,158]"
      ]
    },
    {
      "cell_type": "code",
      "execution_count": 11,
      "id": "183f441b",
      "metadata": {
        "id": "183f441b"
      },
      "outputs": [],
      "source": [
        "import matplotlib.pyplot as plt"
      ]
    },
    {
      "cell_type": "code",
      "execution_count": 12,
      "id": "d4b57ac8",
      "metadata": {
        "colab": {
          "base_uri": "https://localhost:8080/",
          "height": 472
        },
        "id": "d4b57ac8",
        "outputId": "2def8373-a0e0-4623-9e98-31958521a678"
      },
      "outputs": [
        {
          "output_type": "display_data",
          "data": {
            "text/plain": [
              "<Figure size 640x480 with 1 Axes>"
            ],
            "image/png": "[encoded data removed]"
          },
          "metadata": {}
        }
      ],
      "source": [
        "plt.scatter(weight, height)\n",
        "plt.title(\"Relationship between Weight and Height of Patients\")\n",
        "plt.ylabel(\"Height in Meters\")\n",
        "plt.xlabel(\"Weight of Patients in Kgs\")\n",
        "plt.show()"
      ]
    },
    {
      "cell_type": "markdown",
      "id": "de2fc765",
      "metadata": {
        "id": "de2fc765"
      },
      "source": [
        "### Generate Bar Plot"
      ]
    },
    {
      "cell_type": "code",
      "execution_count": null,
      "id": "371361d4",
      "metadata": {
        "id": "371361d4",
        "outputId": "0154aaf1-0940-4fb0-9bca-677564ace744"
      },
      "outputs": [
        {
          "data": {
            "image/png": "[encoded data removed]",
            "text/plain": [
              "<Figure size 864x288 with 1 Axes>"
            ]
          },
          "metadata": {
            "needs_background": "light"
          },
          "output_type": "display_data"
        }
      ],
      "source": [
        "plt.figure(figsize=(12,4))\n",
        "plt.title(\"People's weight in kgs\",fontsize=16,\n",
        "          fontstyle='italic')\n",
        "\n",
        "# Main plot function 'bar'\n",
        "plt.bar(x=people,height=weight, width=0.6,\n",
        "        color='orange',edgecolor='k',alpha=0.6)\n",
        "\n",
        "plt.xlabel(\"People\",fontsize=15)\n",
        "plt.xticks(fontsize=14,rotation=30)\n",
        "plt.yticks(fontsize=14)\n",
        "plt.ylabel(\"Weight (in kgs)\",fontsize=15)\n",
        "plt.show()"
      ]
    },
    {
      "cell_type": "markdown",
      "id": "3495be05",
      "metadata": {
        "id": "3495be05"
      },
      "source": [
        "### Generate Histogram"
      ]
    },
    {
      "cell_type": "code",
      "execution_count": null,
      "id": "cae1cb88",
      "metadata": {
        "id": "cae1cb88",
        "outputId": "2ca303bd-6815-4262-c015-115bcfc7a10b"
      },
      "outputs": [
        {
          "data": {
            "image/png": "[encoded data removed]",
            "text/plain": [
              "<Figure size 504x360 with 1 Axes>"
            ]
          },
          "metadata": {
            "needs_background": "light"
          },
          "output_type": "display_data"
        }
      ],
      "source": [
        "import numpy as np\n",
        "plt.figure(figsize=(7,5))\n",
        "\n",
        "# Main plot function 'hist'\n",
        "plt.hist(weight,color='red',edgecolor='k', alpha=0.75,bins=5)\n",
        "\n",
        "plt.title(\"Histogram of patient weight\",fontsize=18)\n",
        "plt.xlabel(\"Weight in kgs\",fontsize=15)\n",
        "plt.xticks(fontsize=15)\n",
        "plt.yticks(fontsize=15)\n",
        "plt.show()"
      ]
    },
    {
      "cell_type": "markdown",
      "id": "d72cfb41",
      "metadata": {
        "id": "d72cfb41"
      },
      "source": [
        "### Part-03: Access Data from various sources and formats"
      ]
    },
    {
      "cell_type": "code",
      "execution_count": null,
      "id": "9985c098",
      "metadata": {
        "id": "9985c098"
      },
      "outputs": [],
      "source": [
        "import numpy as np\n",
        "import pandas as pd"
      ]
    },
    {
      "cell_type": "code",
      "execution_count": null,
      "id": "c4b282d0",
      "metadata": {
        "scrolled": true,
        "id": "c4b282d0"
      },
      "outputs": [],
      "source": [
        "df1 = pd.read_table(\"Lab01-Text.txt\")"
      ]
    },
    {
      "cell_type": "code",
      "execution_count": null,
      "id": "a6d4a7b4",
      "metadata": {
        "id": "a6d4a7b4"
      },
      "outputs": [],
      "source": [
        "df1"
      ]
    },
    {
      "cell_type": "code",
      "execution_count": null,
      "id": "e8d9521b",
      "metadata": {
        "id": "e8d9521b"
      },
      "outputs": [],
      "source": [
        "data2 = pd.read_csv(\"Lab01-Text.csv\")"
      ]
    },
    {
      "cell_type": "code",
      "execution_count": null,
      "id": "212f008e",
      "metadata": {
        "id": "212f008e"
      },
      "outputs": [],
      "source": [
        "data2"
      ]
    },
    {
      "cell_type": "code",
      "execution_count": null,
      "id": "1df68dba",
      "metadata": {
        "id": "1df68dba"
      },
      "outputs": [],
      "source": [
        "data3 = pd.read_excel(\"Height_weight.xlsx\")"
      ]
    },
    {
      "cell_type": "code",
      "execution_count": null,
      "id": "8660c8e4",
      "metadata": {
        "id": "8660c8e4"
      },
      "outputs": [],
      "source": [
        "data3"
      ]
    }
  ],
  "metadata": {
    "kernelspec": {
      "display_name": "Python 3 (ipykernel)",
      "language": "python",
      "name": "python3"
    },
    "language_info": {
      "codemirror_mode": {
        "name": "ipython",
        "version": 3
      },
      "file_extension": ".py",
      "mimetype": "text/x-python",
      "name": "python",
      "nbconvert_exporter": "python",
      "pygments_lexer": "ipython3",
      "version": "3.9.15"
    },
    "colab": {
      "provenance": [],
      "include_colab_link": true
    }
  },
  "nbformat": 4,
  "nbformat_minor": 5
}